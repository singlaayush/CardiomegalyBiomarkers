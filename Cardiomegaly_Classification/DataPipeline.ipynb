{
 "cells": [
  {
   "cell_type": "markdown",
   "metadata": {
    "id": "PiZ9U3_AwHiK"
   },
   "source": [
    "# 0. Initiate"
   ]
  },
  {
   "cell_type": "markdown",
   "metadata": {
    "id": "pad_A4fjwHiM"
   },
   "source": [
    "## Paths"
   ]
  },
  {
   "cell_type": "code",
   "execution_count": 3,
   "metadata": {
    "executionInfo": {
     "elapsed": 374,
     "status": "ok",
     "timestamp": 1646131791237,
     "user": {
      "displayName": "Felix Krones",
      "photoUrl": "https://lh3.googleusercontent.com/a-/AOh14GjSxvTbkfXxDJzOp4v_LXWADTjndToE9axPrZpOHQ=s64",
      "userId": "13739324806550971712"
     },
     "user_tz": 0
    },
    "id": "x5kaMpoFwHiM"
   },
   "outputs": [],
   "source": [
    "# Global paths\n",
    "\n",
    "# Raw data\n",
    "mimic_iv_path = '../MIMIC/MIMIC-IV/'\n",
    "icu_stays_path = mimic_iv_path + 'icu/icustays.csv.gz'\n",
    "chart_events_path = mimic_iv_path + 'icu/chartevents.csv.gz'\n",
    "patients_table_path = mimic_iv_path + 'hosp/patients.csv.gz'\n",
    "admissions_table_path = mimic_iv_path + 'hosp/admissions.csv.gz'\n",
    "lab_events_path = mimic_iv_path + 'hosp/labevents.csv.gz'\n",
    "\n",
    "mimic_cxr_path = '../MIMIC/'\n",
    "cxr_records_path = mimic_cxr_path + 'cxr-record-list.csv.gz'\n",
    "cxr_metadata_path = mimic_cxr_path + 'mimic-cxr-2.0.0-metadata.csv.gz'\n",
    "df_split_path = mimic_cxr_path + 'mimic-cxr-2.0.0-split.csv.gz'\n",
    "negbio_path = mimic_cxr_path + 'mimic-cxr-2.0.0-negbio.csv.gz'\n",
    "chexpert_path = mimic_cxr_path + 'mimic-cxr-2.0.0-chexpert.csv.gz'\n",
    "\n",
    "\n",
    "\n",
    "# Features intermediate \n",
    "feature_folder = '../Cardiomegaly Classification/MIMIC_features/'\n",
    "\n",
    "# MIMIC intermediate \n",
    "relevant_chart_events_save_path = feature_folder + 'RelevantChartEvents.pkl'\n",
    "relevant_lab_events_save_path = feature_folder + 'RelevantLabEvents.pkl'\n",
    "df_icu_xray_path =  feature_folder + 'IcuXrayMatched.pkl'\n",
    "\n",
    "# Biomarkers\n",
    "ctr_path =  '../Biomarker Extraction/save_folder/CTR/CTRs.csv'\n",
    "cpar_path = '../Biomarker Extraction/save_folder/CPAR/CPARs.csv'\n",
    "\n",
    "# Final cleaned features\n",
    "features_path = feature_folder + 'MIMIC_features.pkl'"
   ]
  },
  {
   "cell_type": "markdown",
   "metadata": {
    "id": "CdRfex3XwHiN"
   },
   "source": [
    "##  Parameters"
   ]
  },
  {
   "cell_type": "code",
   "execution_count": 4,
   "metadata": {
    "executionInfo": {
     "elapsed": 1,
     "status": "ok",
     "timestamp": 1646131792332,
     "user": {
      "displayName": "Felix Krones",
      "photoUrl": "https://lh3.googleusercontent.com/a-/AOh14GjSxvTbkfXxDJzOp4v_LXWADTjndToE9axPrZpOHQ=s64",
      "userId": "13739324806550971712"
     },
     "user_tz": 0
    },
    "id": "oi_ZutfsjbSF"
   },
   "outputs": [],
   "source": [
    "# General Parameters\n",
    "label = 'Cardiomegaly'  # Define label of target disease ('Atelectasis', 'Cardiomegaly', 'Consolidation', 'Edema', 'Enlarged Cardiomediastinum', 'Fracture', 'Lung Lesion', 'Lung Opacity', 'No Finding', 'Pleural Effusion', 'Pleural Other', 'Pneumonia', 'Pneumothorax', 'Support Devices')\n",
    "chunk_size = 10**7      # When extracting relevant lab and chart events we iterate through the original files in chunks of size 'chunk_size'.\n",
    "\n",
    "# MIMIC-CXR (imaging) Parameters\n",
    "view = 'PA'     # Choose the X-ray view position you're interested in, AP or PA\n",
    "\n",
    "# MIMIC-IV (non-imaging) Parameters\n",
    "MIMIC_IV_version = 2            # Version of MIMIC-IV downloaded\n",
    "days_before_icu = 365           # The number of days before ICU admission that we look for x-rays in\n",
    "xray_gap_after_icu = 0          # You can choose to include a 'gap' after ICU discharge in which you don't look for any X-rays\n",
    "xray_max_time_after_icu = 90    # If you don't want a gap, xray_max_time_after_icu is just the number of days after ICU discharge that we look for x-rays in. We look for x-rays which are between Gap and Gap + xray_max_time_after_icu days after out-time\n",
    "average_by = 'Stay'             # 'Hourly' to average readings every hour and have one hour per row; 'Stay', to average chart and lab values across a stay\n",
    "filter_col = 'itemid'   \t    # Define features to use for time-series prep"
   ]
  },
  {
   "cell_type": "code",
   "execution_count": 5,
   "metadata": {
    "executionInfo": {
     "elapsed": 1,
     "status": "ok",
     "timestamp": 1646131792720,
     "user": {
      "displayName": "Felix Krones",
      "photoUrl": "https://lh3.googleusercontent.com/a-/AOh14GjSxvTbkfXxDJzOp4v_LXWADTjndToE9axPrZpOHQ=s64",
      "userId": "13739324806550971712"
     },
     "user_tz": 0
    },
    "id": "i10Kw9bzjbSL"
   },
   "outputs": [],
   "source": [
    "# Labels of desiered non-imaging features\n",
    "\n",
    "# Lables\n",
    "chart_labels_mean = {\n",
    "    220045: 'HR_mean',\n",
    "    220277: 'SpO2_mean',\n",
    "    223761: 'Temp(F)_mean',\n",
    "    220210: 'RR_mean',\n",
    "    220052: 'ABPm_mean',\n",
    "    220051: 'ABPd_mean',\n",
    "    220050: 'ABPs_mean',\n",
    "    220180: 'NBPd_mean',\n",
    "    220181: 'NBPm_mean',\n",
    "    220179: 'NBPs_mean',\n",
    "    223835: 'FiO2_mean',\n",
    "    220274: 'PH_mean',\n",
    "    220235: 'PCO2_mean',\n",
    "    220227: 'SaO2_mean',\n",
    "    227457: 'PlateletCount_mean',\n",
    "    227456: 'Albumin_mean',\n",
    "    220603: 'Cholesterol_mean',\n",
    "    220645: 'Sodium_mean',\n",
    "    220224: 'PO2_mean',\n",
    "}\n",
    "\n",
    "chart_labels_max = {\n",
    "    220045: 'HR_max',\n",
    "    220210: 'RR_max',\n",
    "    220052: 'ABPm_max',\n",
    "    220051: 'ABPd_max',\n",
    "    220050: 'ABPs_max',\n",
    "    220180: 'NBPd_max',\n",
    "    220181: 'NBPm_max',\n",
    "    220179: 'NBPs_max',\n",
    "    223835: 'FiO2_max',\n",
    "    220235: 'PCO2_max',\n",
    "    220645: 'Sodium_max',\n",
    "}\n",
    "\n",
    "chart_labels_min = {\n",
    "    220045: 'HR_min',\n",
    "    220277: 'SpO2_min',\n",
    "    220210: 'RR_min',\n",
    "    220052: 'ABPm_min',\n",
    "    220051: 'ABPd_min',\n",
    "    220050: 'ABPs_min',\n",
    "    220180: 'NBPd_min',\n",
    "    220181: 'NBPm_min',\n",
    "    220179: 'NBPs_min',\n",
    "    220235: 'PCO2_min',\n",
    "    220645: 'Sodium_min',\n",
    "}\n",
    "\n",
    "lab_labels_mean = {\n",
    "    50826: 'Tidal_Volume_mean',\n",
    "    51006: 'Urea_Nitrogren_mean',\n",
    "    50863: 'Alkaline_Phosphatase_mean',\n",
    "    50893: 'Calcium_Total_mean',\n",
    "    50902: 'Chloride_mean',\n",
    "    50931: 'Glucose_mean',\n",
    "    50813: 'Lactate_mean',\n",
    "    50960: 'Magnesium_mean',\n",
    "    50970: 'Phosphate_mean',\n",
    "    50971: 'Potassium_mean',\n",
    "    50885: 'Bilirubin',\n",
    "    51003: 'Troponin-T_mean',\n",
    "    51221: 'Hematocrit_mean',\n",
    "    50811: 'Hemoglobin_mean',\n",
    "    50861: 'ALT_mean',\n",
    "    50912: 'Creatinine_mean',\n",
    "    51275: 'PTT_mean',\n",
    "    51516: 'WBC_mean',\n",
    "    51214: 'Fibrinogen',\n",
    "}\n",
    "\n",
    "lab_labels_max = {\n",
    "    50971: 'Potassium_max',\n",
    "    51003: 'Troponin-T_max',\n",
    "    50811: 'Hemoglobin_max',\n",
    "    51516: 'WBC_max',\n",
    "}\n",
    "\n",
    "lab_labels_min = {\n",
    "    50971: 'Potassium_min',\n",
    "    50811: 'Hemoglobin_min',\n",
    "    51516: 'WBC_min',\n",
    "}\n",
    "\n",
    "# Aggregation of all laboratory items into LabItems\n",
    "LabItems = dict(lab_labels_mean)\n",
    "LabItems.update(lab_labels_max)\n",
    "LabItems.update(lab_labels_min)\n",
    "\n",
    "# Aggregation of the vital signs / chart items into ChartItems\n",
    "ChartItems = dict(chart_labels_mean)\n",
    "ChartItems.update(chart_labels_max)\n",
    "ChartItems.update(chart_labels_min)"
   ]
  },
  {
   "cell_type": "markdown",
   "metadata": {
    "id": "0Ygw38OKwHiQ"
   },
   "source": [
    "# 1. Data pipeline"
   ]
  },
  {
   "cell_type": "markdown",
   "metadata": {
    "id": "PED7HKQPwHiQ"
   },
   "source": [
    "## Get MIMIC-IV data (non-imaging) "
   ]
  },
  {
   "cell_type": "code",
   "execution_count": 4,
   "metadata": {
    "id": "I94HiY4ewHiQ"
   },
   "outputs": [],
   "source": [
    "# Import functions\n",
    "import pandas as pd\n",
    "\n",
    "from src.data_pipeline_functions import filter_pd_read_chunkwise"
   ]
  },
  {
   "cell_type": "code",
   "execution_count": null,
   "metadata": {
    "colab": {
     "base_uri": "https://localhost:8080/"
    },
    "executionInfo": {
     "elapsed": 1008290,
     "status": "ok",
     "timestamp": 1646095044996,
     "user": {
      "displayName": "Felix Krones",
      "photoUrl": "https://lh3.googleusercontent.com/a-/AOh14GjSxvTbkfXxDJzOp4v_LXWADTjndToE9axPrZpOHQ=s64",
      "userId": "13739324806550971712"
     },
     "user_tz": 0
    },
    "id": "Fnl5bfBDjbSL",
    "outputId": "1e5afed9-0f5e-42a8-eaf6-abc14bea6bfe"
   },
   "outputs": [],
   "source": [
    "# MIMIC-IV: Extract necessary features chunkwise\n",
    "df_icu_timeseries = filter_pd_read_chunkwise(\n",
    "    file_path=chart_events_path,\n",
    "    filter_col=filter_col,\n",
    "    filter_list=ChartItems.keys(),\n",
    "    chunksize=chunk_size,\n",
    ")\n",
    "df_icu_lab = filter_pd_read_chunkwise(\n",
    "    file_path=lab_events_path,\n",
    "    filter_col=filter_col,\n",
    "    filter_list=LabItems.keys(),\n",
    "    chunksize=chunk_size,\n",
    ")\n",
    "\n",
    "df_icu_timeseries.to_pickle(relevant_chart_events_save_path)\n",
    "df_icu_lab.to_pickle(relevant_lab_events_save_path)"
   ]
  },
  {
   "cell_type": "markdown",
   "metadata": {},
   "source": [
    "## Match MIMIC-IV (non-imaging) and MIMIC-CXR (imaging) data"
   ]
  },
  {
   "cell_type": "code",
   "execution_count": null,
   "metadata": {},
   "outputs": [],
   "source": [
    "# Import functions\n",
    "import pandas as pd\n",
    "\n",
    "from src.data_pipeline_functions import (x_ray_dataframe_generator, icu_xray_matcher)"
   ]
  },
  {
   "cell_type": "code",
   "execution_count": null,
   "metadata": {
    "id": "lp3jTsMKwHiQ"
   },
   "outputs": [],
   "source": [
    "# MIMIC-CXR: Create X-Ray dataframes (the table will only contain the paths to the actual pictures)\n",
    "df_split = pd.read_csv(df_split_path)\n",
    "df_metadata = pd.read_csv(cxr_metadata_path, header=0, sep=',')\n",
    "df_cxr_records = pd.read_csv(cxr_records_path, header=0, sep=',')\n",
    "df_nb = pd.read_csv(negbio_path)\n",
    "df_cx = pd.read_csv(chexpert_path)\n",
    "\n",
    "df_xray = x_ray_dataframe_generator(\n",
    "    label=label,\n",
    "    view=view,\n",
    "    df_cxr_records=df_cxr_records,\n",
    "    df_nb=df_nb,\n",
    "    df_cx=df_cx,\n",
    "    df_cxr_meta_data=df_metadata,\n",
    "    df_split=df_split)"
   ]
  },
  {
   "cell_type": "code",
   "execution_count": null,
   "metadata": {
    "id": "oVA2XqVNjbSO"
   },
   "outputs": [],
   "source": [
    "# Link X-Ray to ICU stays if in certain time window defined by days_before_icu, xray_gap_after_icu, and xray_max_time_after_icu\n",
    "df_icu_stays = pd.read_csv(icu_stays_path)\n",
    "\n",
    "df_icu_xray = icu_xray_matcher(\n",
    "    label=label,\n",
    "    days_before_icu=days_before_icu,\n",
    "    xray_gap_after_icu=xray_gap_after_icu,\n",
    "    xray_max_time_after_icu=xray_max_time_after_icu,\n",
    "    df_xray=df_xray,\n",
    "    df_icu_stays=df_icu_stays)\n",
    "\n",
    "df_icu_xray.to_pickle(df_icu_xray_path)"
   ]
  },
  {
   "cell_type": "markdown",
   "metadata": {
    "id": "ylYFLx8EwHiQ"
   },
   "source": [
    "## Combine features and clean data"
   ]
  },
  {
   "cell_type": "code",
   "execution_count": 1,
   "metadata": {
    "id": "GzWR8CgMwHiR"
   },
   "outputs": [],
   "source": [
    "# Import functions\n",
    "import pandas as pd\n",
    "\n",
    "from src.utils.pandas_utils import explode, create_pivot, filter_df_isin\n",
    "from typing import List, Dict\n",
    "from src.data_pipeline_functions import explode_icu_stays, SignalTableGenerator, dfCleaning"
   ]
  },
  {
   "cell_type": "code",
   "execution_count": 6,
   "metadata": {
    "id": "S8nWdcfZiWaj"
   },
   "outputs": [],
   "source": [
    "# Load data\n",
    "df_patients = pd.read_csv(patients_table_path)\n",
    "df_admissions = pd.read_csv(admissions_table_path)\n",
    "df_icu_lab = pd.read_pickle(relevant_lab_events_save_path)\n",
    "df_icu_xray = pd.read_pickle(df_icu_xray_path)\n",
    "\n",
    "df_icu_timeseries = pd.read_pickle(relevant_chart_events_save_path)\n",
    "df_icu_lab = pd.read_pickle(relevant_lab_events_save_path)\\\n",
    "\n",
    "df_ctr = pd.read_csv(ctr_path)\n",
    "df_cpar = pd.read_csv(cpar_path)"
   ]
  },
  {
   "cell_type": "code",
   "execution_count": 7,
   "metadata": {},
   "outputs": [],
   "source": [
    "# edit name of df_admissions column if data taken from versions after MINIC-IV v1.0 as 'ethnicity' column was renamed 'race' in following version (v2.0)\n",
    "if MIMIC_IV_version != 1:\n",
    "    df_admissions.rename(columns={'race':'ethnicity'}, inplace=True)"
   ]
  },
  {
   "cell_type": "code",
   "execution_count": 8,
   "metadata": {},
   "outputs": [],
   "source": [
    "# collate all features (MIMIC-IV feautres, MIMIC-CXR file paths, biomarker values) into one master table\n",
    "df_master = SignalTableGenerator(df_icu_xray, \n",
    "                                 df_icu_timeseries=df_icu_timeseries, \n",
    "                                 df_icu_lab=df_icu_lab, \n",
    "                                 df_patients=df_patients, \n",
    "                                 df_admissions=df_admissions, \n",
    "                                 df_ctr=df_ctr,\n",
    "                                 df_cpar=df_cpar,\n",
    "                                 chart_labels_mean=chart_labels_mean, \n",
    "                                 chart_labels_max=chart_labels_max, \n",
    "                                 chart_labels_min=chart_labels_min, \n",
    "                                 lab_labels_mean=lab_labels_mean, \n",
    "                                 lab_labels_max=lab_labels_max, \n",
    "                                 lab_labels_min=lab_labels_min, \n",
    "                                 average_by=average_by)"
   ]
  },
  {
   "cell_type": "code",
   "execution_count": 9,
   "metadata": {},
   "outputs": [],
   "source": [
    "# Clean master table\n",
    "df_master_cleaned = dfCleaning(df_master)\n",
    "\n",
    "# Save cleaned master dataframe\n",
    "df_master_cleaned.to_pickle(feature_folder + 'MIMIC_features.pkl')"
   ]
  },
  {
   "cell_type": "markdown",
   "metadata": {
    "id": "qswgsfU1pwZC"
   },
   "source": [
    "# 3. Descriptive analysis"
   ]
  },
  {
   "cell_type": "code",
   "execution_count": 5,
   "metadata": {},
   "outputs": [],
   "source": [
    "# Import functions\n",
    "import pandas as pd\n",
    "\n",
    "# Import cleaned master dataframe\n",
    "df_master_cleaned = pd.read_pickle(feature_folder + 'MIMIC_features.pkl')"
   ]
  },
  {
   "cell_type": "code",
   "execution_count": null,
   "metadata": {
    "id": "hnlARNOvpwZC"
   },
   "outputs": [],
   "source": [
    "# Analysis of MIMIC features \n",
    "print(df_master_cleaned.loc[:, ['Cardiomegaly', 'anchor_age', 'los']].describe())\n",
    "print(df_master_cleaned.loc[:, ['ethnicity']].value_counts())\n",
    "print(df_master_cleaned.loc[:, ['ethnicity']].value_counts(normalize=True))\n",
    "print(df_master_cleaned.loc[:, ['gender']].value_counts())\n",
    "print(df_master_cleaned.loc[:, ['gender']].value_counts(normalize=True))"
   ]
  },
  {
   "cell_type": "code",
   "execution_count": null,
   "metadata": {
    "id": "cCTNNZz3pwZD"
   },
   "outputs": [],
   "source": [
    "# Analysis of MIMIC features for class 1 (cardiomegaly positive)\n",
    "print(df_master_cleaned.loc[df_master_cleaned.Cardiomegaly == 1, ['Cardiomegaly', 'anchor_age', 'los']].describe())\n",
    "print(df_master_cleaned.loc[df_master_cleaned.Cardiomegaly == 1, ['ethnicity']].value_counts())\n",
    "print(df_master_cleaned.loc[df_master_cleaned.Cardiomegaly == 1, ['ethnicity']].value_counts(normalize=True))\n",
    "print(df_master_cleaned.loc[df_master_cleaned.Cardiomegaly == 1, ['gender']].value_counts())\n",
    "print(df_master_cleaned.loc[df_master_cleaned.Cardiomegaly == 1, ['gender']].value_counts(normalize=True))"
   ]
  },
  {
   "cell_type": "code",
   "execution_count": null,
   "metadata": {},
   "outputs": [],
   "source": [
    "# Analysis of MIMIC features for class 0 (cardiomegaly negative)\n",
    "print(df_master_cleaned.loc[df_master_cleaned.Cardiomegaly == 0, ['Cardiomegaly', 'anchor_age', 'los']].describe())\n",
    "print(df_master_cleaned.loc[df_master_cleaned.Cardiomegaly == 0, ['ethnicity']].value_counts())\n",
    "print(df_master_cleaned.loc[df_master_cleaned.Cardiomegaly == 0, ['ethnicity']].value_counts(normalize=True))\n",
    "print(df_master_cleaned.loc[df_master_cleaned.Cardiomegaly == 0, ['gender']].value_counts())\n",
    "print(df_master_cleaned.loc[df_master_cleaned.Cardiomegaly == 0, ['gender']].value_counts(normalize=True))"
   ]
  },
  {
   "cell_type": "code",
   "execution_count": null,
   "metadata": {},
   "outputs": [],
   "source": [
    "# Analysis of image derived image biomarker (CTR) by class + histograms of values\n",
    "print(df_master_cleaned.loc[:, ['CTR']].describe())\n",
    "print(df_master_cleaned.loc[df_master_cleaned.Cardiomegaly == 1, ['CTR']].describe())\n",
    "print(df_master_cleaned.loc[df_master_cleaned.Cardiomegaly == 0, ['CTR']].describe())\n",
    "\n",
    "df_master_cleaned.hist(column = 'CTR', bins=100, by='Cardiomegaly', range =[0,1])"
   ]
  },
  {
   "cell_type": "code",
   "execution_count": null,
   "metadata": {},
   "outputs": [],
   "source": [
    "# Analysis of image derived image biomarker (CPAR) by class + histograms of values\n",
    "print(df_master_cleaned.loc[:, ['CPAR']].describe())\n",
    "print(df_master_cleaned.loc[df_master_cleaned.Cardiomegaly == 1, ['CPAR']].describe())\n",
    "print(df_master_cleaned.loc[df_master_cleaned.Cardiomegaly == 0, ['CPAR']].describe())\n",
    "\n",
    "df_master_cleaned.hist(column = 'CPAR', bins=100, by='Cardiomegaly', range =[0,1])"
   ]
  },
  {
   "cell_type": "code",
   "execution_count": null,
   "metadata": {},
   "outputs": [],
   "source": [
    "# Additional analysis of CTR and CPAR success rates\n",
    "df_ctr = pd.read_csv(ctr_path)\n",
    "df_cpar = pd.read_csv(cpar_path)\n",
    "\n",
    "ctr_heart = (df_ctr.CTR == 2).sum()\n",
    "ctr_lungs = (df_ctr.CTR == 3).sum()\n",
    "ctr_both = (df_ctr.CTR == 4).sum()\n",
    "ctr = ctr_both+ctr_heart+ctr_lungs\n",
    "\n",
    "cpar_heart = (df_cpar.CPAR == 2).sum()\n",
    "cpar_lungs = (df_cpar.CPAR == 3).sum()\n",
    "cpar_both = (df_cpar.CPAR == 4).sum()\n",
    "cpar = cpar_both+cpar_heart+cpar_lungs\n",
    "\n",
    "print(f'CTR general success rate: {round((len(df_ctr)-ctr)/len(df_ctr)*100,3)}% (total of {ctr} errors)')\n",
    "print(f'\\t of which are {ctr_heart} are heart based ({round(ctr_heart/ctr*100,3)}%)')\n",
    "print(f'\\t of which are {ctr_lungs} are lung based ({round(ctr_lungs/ctr*100,3)}%)')\n",
    "print(f'\\t of which are {ctr_both} are both based ({round(ctr_both/ctr*100,3)}%)\\n')\n",
    "\n",
    "print(f'CPAR general success rate: {round((len(df_cpar)-cpar)/len(df_cpar)*100,3)}% (total of {cpar} errors)')\n",
    "print(f'\\t of which are {cpar_heart} are heart based ({round(cpar_heart/cpar*100,3)}%)')\n",
    "print(f'\\t of which are {cpar_lungs} are lung based ({round(cpar_lungs/cpar*100,3)}%)')\n",
    "print(f'\\t of which are {cpar_both} are both based ({round(cpar_both/cpar*100,3)}%)')"
   ]
  }
 ],
 "metadata": {
  "colab": {
   "background_execution": "on",
   "collapsed_sections": [],
   "machine_shape": "hm",
   "name": "pipeline.ipynb",
   "version": ""
  },
  "kernelspec": {
   "display_name": "Python 3.10.7 64-bit",
   "language": "python",
   "name": "python3"
  },
  "language_info": {
   "codemirror_mode": {
    "name": "ipython",
    "version": 3
   },
   "file_extension": ".py",
   "mimetype": "text/x-python",
   "name": "python",
   "nbconvert_exporter": "python",
   "pygments_lexer": "ipython3",
   "version": "3.10.7"
  },
  "vscode": {
   "interpreter": {
    "hash": "d1cba19b971ff694059e83efcf642bf4bc6078f5ed50d16de55abdc3eb9fc494"
   }
  }
 },
 "nbformat": 4,
 "nbformat_minor": 0
}

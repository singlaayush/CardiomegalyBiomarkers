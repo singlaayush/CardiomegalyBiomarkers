{
 "cells": [
  {
   "cell_type": "markdown",
   "metadata": {
    "id": "PiZ9U3_AwHiK"
   },
   "source": [
    "# 0. Initiate"
   ]
  },
  {
   "cell_type": "markdown",
   "metadata": {
    "id": "pad_A4fjwHiM"
   },
   "source": [
    "## Paths"
   ]
  },
  {
   "cell_type": "code",
   "execution_count": 6,
   "metadata": {
    "executionInfo": {
     "elapsed": 374,
     "status": "ok",
     "timestamp": 1646131791237,
     "user": {
      "displayName": "Felix Krones",
      "photoUrl": "https://lh3.googleusercontent.com/a-/AOh14GjSxvTbkfXxDJzOp4v_LXWADTjndToE9axPrZpOHQ=s64",
      "userId": "13739324806550971712"
     },
     "user_tz": 0
    },
    "id": "x5kaMpoFwHiM"
   },
   "outputs": [],
   "source": [
    "# Global paths\n",
    "\n",
    "# Raw data\n",
    "mimic_iv_path = '/n/scratch/users/a/ays124/mimiciv/'\n",
    "icu_stays_path = mimic_iv_path + 'icu/icustays.csv.gz'\n",
    "chart_events_path = mimic_iv_path + 'icu/chartevents.csv.gz'\n",
    "patients_table_path = mimic_iv_path + 'hosp/patients.csv.gz'\n",
    "admissions_table_path = mimic_iv_path + 'hosp/admissions.csv.gz'\n",
    "lab_events_path = mimic_iv_path + 'hosp/labevents.csv.gz'\n",
    "\n",
    "mimic_cxr_path = '/n/scratch/users/a/ays124/mimic-cxr-jpg/'\n",
    "cxr_records_path = mimic_cxr_path + 'cxr-record-list.csv.gz'\n",
    "cxr_metadata_path = mimic_cxr_path + 'mimic-cxr-2.0.0-metadata.csv.gz'\n",
    "df_split_path = mimic_cxr_path + 'mimic-cxr-2.0.0-split.csv.gz'\n",
    "negbio_path = mimic_cxr_path + 'mimic-cxr-2.0.0-negbio.csv.gz'\n",
    "chexpert_path = mimic_cxr_path + 'mimic-cxr-2.0.0-chexpert.csv.gz'\n",
    "\n",
    "\n",
    "\n",
    "# Features intermediate \n",
    "feature_folder = 'CardiomegalyBiomarkers/Cardiomegaly_Classification/MIMIC_features_OG/'\n",
    "\n",
    "# MIMIC intermediate \n",
    "relevant_chart_events_save_path = feature_folder + 'RelevantChartEvents.pkl'\n",
    "relevant_lab_events_save_path = feature_folder + 'RelevantLabEvents.pkl'\n",
    "df_icu_xray_path =  feature_folder + 'IcuXrayMatched.pkl'\n",
    "\n",
    "# Biomarkers\n",
    "ctr_path =  '/home/ays124/mimic/CardiomegalyBiomarkers/ctr-cpar-cardiomegaly/CTRs.csv'\n",
    "cpar_path = '/home/ays124/mimic/CardiomegalyBiomarkers/ctr-cpar-cardiomegaly/CPARs.csv'\n",
    "\n",
    "# Final cleaned features\n",
    "features_path = feature_folder + 'MIMIC_features_OG.pkl'"
   ]
  },
  {
   "cell_type": "markdown",
   "metadata": {
    "id": "CdRfex3XwHiN"
   },
   "source": [
    "##  Parameters"
   ]
  },
  {
   "cell_type": "code",
   "execution_count": 3,
   "metadata": {
    "executionInfo": {
     "elapsed": 1,
     "status": "ok",
     "timestamp": 1646131792332,
     "user": {
      "displayName": "Felix Krones",
      "photoUrl": "https://lh3.googleusercontent.com/a-/AOh14GjSxvTbkfXxDJzOp4v_LXWADTjndToE9axPrZpOHQ=s64",
      "userId": "13739324806550971712"
     },
     "user_tz": 0
    },
    "id": "oi_ZutfsjbSF"
   },
   "outputs": [],
   "source": [
    "# General Parameters\n",
    "label = 'Cardiomegaly'  # Define label of target disease ('Atelectasis', 'Cardiomegaly', 'Consolidation', 'Edema', 'Enlarged Cardiomediastinum', 'Fracture', 'Lung Lesion', 'Lung Opacity', 'No Finding', 'Pleural Effusion', 'Pleural Other', 'Pneumonia', 'Pneumothorax', 'Support Devices')\n",
    "chunk_size = 10**7      # When extracting relevant lab and chart events we iterate through the original files in chunks of size 'chunk_size'.\n",
    "\n",
    "# MIMIC-CXR (imaging) Parameters\n",
    "view = 'PA'     # Choose the X-ray view position you're interested in, AP or PA\n",
    "\n",
    "# MIMIC-IV (non-imaging) Parameters\n",
    "MIMIC_IV_version = 2            # Version of MIMIC-IV downloaded\n",
    "days_before_icu = 365           # The number of days before ICU admission that we look for x-rays in\n",
    "xray_gap_after_icu = 0          # You can choose to include a 'gap' after ICU discharge in which you don't look for any X-rays\n",
    "xray_max_time_after_icu = 90    # If you don't want a gap, xray_max_time_after_icu is just the number of days after ICU discharge that we look for x-rays in. We look for x-rays which are between Gap and Gap + xray_max_time_after_icu days after out-time\n",
    "average_by = 'Stay'             # 'Hourly' to average readings every hour and have one hour per row; 'Stay', to average chart and lab values across a stay\n",
    "filter_col = 'itemid'   \t    # Define features to use for time-series prep"
   ]
  },
  {
   "cell_type": "code",
   "execution_count": 4,
   "metadata": {
    "executionInfo": {
     "elapsed": 1,
     "status": "ok",
     "timestamp": 1646131792720,
     "user": {
      "displayName": "Felix Krones",
      "photoUrl": "https://lh3.googleusercontent.com/a-/AOh14GjSxvTbkfXxDJzOp4v_LXWADTjndToE9axPrZpOHQ=s64",
      "userId": "13739324806550971712"
     },
     "user_tz": 0
    },
    "id": "i10Kw9bzjbSL"
   },
   "outputs": [],
   "source": [
    "# Labels of desiered non-imaging features\n",
    "\n",
    "# Lables\n",
    "chart_labels_mean = {\n",
    "    220045: 'HR_mean',\n",
    "    220277: 'SpO2_mean',\n",
    "    223761: 'Temp(F)_mean',\n",
    "    220210: 'RR_mean',\n",
    "    220052: 'ABPm_mean',\n",
    "    220051: 'ABPd_mean',\n",
    "    220050: 'ABPs_mean',\n",
    "    220180: 'NBPd_mean',\n",
    "    220181: 'NBPm_mean',\n",
    "    220179: 'NBPs_mean',\n",
    "    223835: 'FiO2_mean',\n",
    "    220274: 'PH_mean',\n",
    "    220235: 'PCO2_mean',\n",
    "    220227: 'SaO2_mean',\n",
    "    227457: 'PlateletCount_mean',\n",
    "    227456: 'Albumin_mean',\n",
    "    220603: 'Cholesterol_mean',\n",
    "    220645: 'Sodium_mean',\n",
    "    220224: 'PO2_mean',\n",
    "}\n",
    "\n",
    "chart_labels_max = {\n",
    "    220045: 'HR_max',\n",
    "    220210: 'RR_max',\n",
    "    220052: 'ABPm_max',\n",
    "    220051: 'ABPd_max',\n",
    "    220050: 'ABPs_max',\n",
    "    220180: 'NBPd_max',\n",
    "    220181: 'NBPm_max',\n",
    "    220179: 'NBPs_max',\n",
    "    223835: 'FiO2_max',\n",
    "    220235: 'PCO2_max',\n",
    "    220645: 'Sodium_max',\n",
    "}\n",
    "\n",
    "chart_labels_min = {\n",
    "    220045: 'HR_min',\n",
    "    220277: 'SpO2_min',\n",
    "    220210: 'RR_min',\n",
    "    220052: 'ABPm_min',\n",
    "    220051: 'ABPd_min',\n",
    "    220050: 'ABPs_min',\n",
    "    220180: 'NBPd_min',\n",
    "    220181: 'NBPm_min',\n",
    "    220179: 'NBPs_min',\n",
    "    220235: 'PCO2_min',\n",
    "    220645: 'Sodium_min',\n",
    "}\n",
    "\n",
    "lab_labels_mean = {\n",
    "    50826: 'Tidal_Volume_mean',\n",
    "    51006: 'Urea_Nitrogren_mean',\n",
    "    50863: 'Alkaline_Phosphatase_mean',\n",
    "    50893: 'Calcium_Total_mean',\n",
    "    50902: 'Chloride_mean',\n",
    "    50931: 'Glucose_mean',\n",
    "    50813: 'Lactate_mean',\n",
    "    50960: 'Magnesium_mean',\n",
    "    50970: 'Phosphate_mean',\n",
    "    50971: 'Potassium_mean',\n",
    "    50885: 'Bilirubin',\n",
    "    51003: 'Troponin-T_mean',\n",
    "    51221: 'Hematocrit_mean',\n",
    "    50811: 'Hemoglobin_mean',\n",
    "    50861: 'ALT_mean',\n",
    "    50912: 'Creatinine_mean',\n",
    "    51275: 'PTT_mean',\n",
    "    51516: 'WBC_mean',\n",
    "    51214: 'Fibrinogen',\n",
    "}\n",
    "\n",
    "lab_labels_max = {\n",
    "    50971: 'Potassium_max',\n",
    "    51003: 'Troponin-T_max',\n",
    "    50811: 'Hemoglobin_max',\n",
    "    51516: 'WBC_max',\n",
    "}\n",
    "\n",
    "lab_labels_min = {\n",
    "    50971: 'Potassium_min',\n",
    "    50811: 'Hemoglobin_min',\n",
    "    51516: 'WBC_min',\n",
    "}\n",
    "\n",
    "# Aggregation of all laboratory items into LabItems\n",
    "LabItems = dict(lab_labels_mean)\n",
    "LabItems.update(lab_labels_max)\n",
    "LabItems.update(lab_labels_min)\n",
    "\n",
    "# Aggregation of the vital signs / chart items into ChartItems\n",
    "ChartItems = dict(chart_labels_mean)\n",
    "ChartItems.update(chart_labels_max)\n",
    "ChartItems.update(chart_labels_min)"
   ]
  },
  {
   "cell_type": "markdown",
   "metadata": {
    "id": "0Ygw38OKwHiQ"
   },
   "source": [
    "# 1. Data pipeline"
   ]
  },
  {
   "cell_type": "markdown",
   "metadata": {
    "id": "PED7HKQPwHiQ"
   },
   "source": [
    "## Get MIMIC-IV data (non-imaging) "
   ]
  },
  {
   "cell_type": "code",
   "execution_count": 5,
   "metadata": {
    "id": "I94HiY4ewHiQ"
   },
   "outputs": [],
   "source": [
    "# Import functions\n",
    "import pandas as pd\n",
    "\n",
    "from CardiomegalyBiomarkers.Cardiomegaly_Classification.src.data_pipeline_functions import filter_pd_read_chunkwise"
   ]
  },
  {
   "cell_type": "code",
   "execution_count": 6,
   "metadata": {
    "colab": {
     "base_uri": "https://localhost:8080/"
    },
    "executionInfo": {
     "elapsed": 1008290,
     "status": "ok",
     "timestamp": 1646095044996,
     "user": {
      "displayName": "Felix Krones",
      "photoUrl": "https://lh3.googleusercontent.com/a-/AOh14GjSxvTbkfXxDJzOp4v_LXWADTjndToE9axPrZpOHQ=s64",
      "userId": "13739324806550971712"
     },
     "user_tz": 0
    },
    "id": "Fnl5bfBDjbSL",
    "outputId": "1e5afed9-0f5e-42a8-eaf6-abc14bea6bfe"
   },
   "outputs": [],
   "source": [
    "# MIMIC-IV: Extract necessary features chunkwise\n",
    "df_icu_timeseries = filter_pd_read_chunkwise(\n",
    "    file_path=chart_events_path,\n",
    "    filter_col=filter_col,\n",
    "    filter_list=ChartItems.keys(),\n",
    "    chunksize=chunk_size,\n",
    ")\n",
    "df_icu_lab = filter_pd_read_chunkwise(\n",
    "    file_path=lab_events_path,\n",
    "    filter_col=filter_col,\n",
    "    filter_list=LabItems.keys(),\n",
    "    chunksize=chunk_size,\n",
    ")\n",
    "\n",
    "df_icu_timeseries.to_pickle(relevant_chart_events_save_path)\n",
    "df_icu_lab.to_pickle(relevant_lab_events_save_path)"
   ]
  },
  {
   "cell_type": "markdown",
   "metadata": {},
   "source": [
    "## Match MIMIC-IV (non-imaging) and MIMIC-CXR (imaging) data"
   ]
  },
  {
   "cell_type": "code",
   "execution_count": 7,
   "metadata": {},
   "outputs": [],
   "source": [
    "# Import functions\n",
    "import pandas as pd\n",
    "\n",
    "from CardiomegalyBiomarkers.Cardiomegaly_Classification.src.data_pipeline_functions import (x_ray_dataframe_generator, icu_xray_matcher)"
   ]
  },
  {
   "cell_type": "code",
   "execution_count": 8,
   "metadata": {
    "id": "lp3jTsMKwHiQ"
   },
   "outputs": [],
   "source": [
    "# MIMIC-CXR: Create X-Ray dataframes (the table will only contain the paths to the actual pictures)\n",
    "df_split = pd.read_csv(df_split_path)\n",
    "df_metadata = pd.read_csv(cxr_metadata_path, header=0, sep=',')\n",
    "df_cxr_records = pd.read_csv(cxr_records_path, header=0, sep=',')\n",
    "df_nb = pd.read_csv(negbio_path)\n",
    "df_cx = pd.read_csv(chexpert_path)\n",
    "\n",
    "df_xray = x_ray_dataframe_generator(\n",
    "    label=label,\n",
    "    view=view,\n",
    "    df_cxr_records=df_cxr_records,\n",
    "    df_nb=df_nb,\n",
    "    df_cx=df_cx,\n",
    "    df_cxr_meta_data=df_metadata,\n",
    "    df_split=df_split)"
   ]
  },
  {
   "cell_type": "code",
   "execution_count": 9,
   "metadata": {
    "id": "oVA2XqVNjbSO"
   },
   "outputs": [
    {
     "name": "stderr",
     "output_type": "stream",
     "text": [
      "/home/ays124/mimic/CardiomegalyBiomarkers/Cardiomegaly_Classification/src/data_pipeline_functions.py:538: FutureWarning: Setting an item of incompatible dtype is deprecated and will raise an error in a future version of pandas. Value 'PA' has dtype incompatible with int64, please explicitly cast to a compatible dtype first.\n",
      "  ICUMatcher.loc[\n",
      "/home/ays124/mimic/CardiomegalyBiomarkers/Cardiomegaly_Classification/src/data_pipeline_functions.py:541: FutureWarning: Setting an item of incompatible dtype is deprecated and will raise an error in a future version of pandas. Value 'files/p10/p10001884/s55333410/5b135035-4708084f-3bb6d230-9db72889-2aa90c14.dcm' has dtype incompatible with int64, please explicitly cast to a compatible dtype first.\n",
      "  ICUMatcher.loc[ICUMatcher.stay_id == row['stay_id'], 'path'] = CXRpaths[\n"
     ]
    }
   ],
   "source": [
    "# Link X-Ray to ICU stays if in certain time window defined by days_before_icu, xray_gap_after_icu, and xray_max_time_after_icu\n",
    "df_icu_stays = pd.read_csv(icu_stays_path)\n",
    "\n",
    "df_icu_xray = icu_xray_matcher(\n",
    "    label=label,\n",
    "    days_before_icu=days_before_icu,\n",
    "    xray_gap_after_icu=xray_gap_after_icu,\n",
    "    xray_max_time_after_icu=xray_max_time_after_icu,\n",
    "    df_xray=df_xray,\n",
    "    df_icu_stays=df_icu_stays)\n",
    "\n",
    "df_icu_xray.to_pickle(df_icu_xray_path)"
   ]
  },
  {
   "cell_type": "markdown",
   "metadata": {
    "id": "ylYFLx8EwHiQ"
   },
   "source": [
    "## Combine features and clean data"
   ]
  },
  {
   "cell_type": "code",
   "execution_count": 10,
   "metadata": {
    "id": "GzWR8CgMwHiR"
   },
   "outputs": [],
   "source": [
    "# Import functions\n",
    "import pandas as pd\n",
    "\n",
    "from CardiomegalyBiomarkers.Cardiomegaly_Classification.src.utils.pandas_utils import explode, create_pivot, filter_df_isin\n",
    "from typing import List, Dict\n",
    "from CardiomegalyBiomarkers.Cardiomegaly_Classification.src.data_pipeline_functions import explode_icu_stays, SignalTableGenerator, dfCleaning"
   ]
  },
  {
   "cell_type": "code",
   "execution_count": 11,
   "metadata": {
    "id": "S8nWdcfZiWaj"
   },
   "outputs": [],
   "source": [
    "# Load data\n",
    "df_patients = pd.read_csv(patients_table_path)\n",
    "df_admissions = pd.read_csv(admissions_table_path)\n",
    "df_icu_lab = pd.read_pickle(relevant_lab_events_save_path)\n",
    "df_icu_xray = pd.read_pickle(df_icu_xray_path)\n",
    "\n",
    "df_icu_timeseries = pd.read_pickle(relevant_chart_events_save_path)\n",
    "df_icu_lab = pd.read_pickle(relevant_lab_events_save_path)\\\n",
    "\n",
    "df_ctr = pd.read_csv(ctr_path)\n",
    "df_cpar = pd.read_csv(cpar_path)"
   ]
  },
  {
   "cell_type": "code",
   "execution_count": 12,
   "metadata": {},
   "outputs": [],
   "source": [
    "# edit name of df_admissions column if data taken from versions after MINIC-IV v1.0 as 'ethnicity' column was renamed 'race' in following version (v2.0)\n",
    "if MIMIC_IV_version != 1:\n",
    "    df_admissions.rename(columns={'race':'ethnicity'}, inplace=True)"
   ]
  },
  {
   "cell_type": "code",
   "execution_count": 13,
   "metadata": {},
   "outputs": [],
   "source": [
    "# collate all features (MIMIC-IV feautres, MIMIC-CXR file paths, biomarker values) into one master table\n",
    "df_master = SignalTableGenerator(df_icu_xray, \n",
    "                                 df_icu_timeseries=df_icu_timeseries, \n",
    "                                 df_icu_lab=df_icu_lab, \n",
    "                                 df_patients=df_patients, \n",
    "                                 df_admissions=df_admissions, \n",
    "                                 df_ctr=df_ctr,\n",
    "                                 df_cpar=df_cpar,\n",
    "                                 chart_labels_mean=chart_labels_mean, \n",
    "                                 chart_labels_max=chart_labels_max, \n",
    "                                 chart_labels_min=chart_labels_min, \n",
    "                                 lab_labels_mean=lab_labels_mean, \n",
    "                                 lab_labels_max=lab_labels_max, \n",
    "                                 lab_labels_min=lab_labels_min, \n",
    "                                 average_by=average_by)"
   ]
  },
  {
   "cell_type": "code",
   "execution_count": 14,
   "metadata": {},
   "outputs": [
    {
     "name": "stderr",
     "output_type": "stream",
     "text": [
      "/home/ays124/mimic/CardiomegalyBiomarkers/Cardiomegaly_Classification/src/data_pipeline_functions.py:28: FutureWarning: Downcasting behavior in `replace` is deprecated and will be removed in a future version. To retain the old behavior, explicitly call `result.infer_objects(copy=False)`. To opt-in to the future behavior, set `pd.set_option('future.no_silent_downcasting', True)`\n",
      "  df.replace({'Negative': 0, 'Positive': 1}, inplace=True)\n"
     ]
    }
   ],
   "source": [
    "# Clean master table\n",
    "df_master_cleaned = dfCleaning(df_master)\n",
    "\n",
    "# Save cleaned master dataframe\n",
    "df_master_cleaned.to_pickle(feature_folder + 'MIMIC_features.pkl')"
   ]
  },
  {
   "cell_type": "markdown",
   "metadata": {
    "id": "qswgsfU1pwZC"
   },
   "source": [
    "# 3. Descriptive analysis"
   ]
  },
  {
   "cell_type": "code",
   "execution_count": 7,
   "metadata": {},
   "outputs": [],
   "source": [
    "# Import functions\n",
    "import pandas as pd\n",
    "from mimic_constants import *\n",
    "\n",
    "# Import cleaned master dataframe\n",
    "df_master_cleaned = get_master_df(idp=True)"
   ]
  },
  {
   "cell_type": "code",
   "execution_count": 23,
   "metadata": {},
   "outputs": [
    {
     "data": {
      "text/plain": [
       "(2662, 90)"
      ]
     },
     "execution_count": 23,
     "metadata": {},
     "output_type": "execute_result"
    }
   ],
   "source": [
    "df_master_cleaned.shape"
   ]
  },
  {
   "cell_type": "code",
   "execution_count": 8,
   "metadata": {},
   "outputs": [
    {
     "data": {
      "text/plain": [
       "HR_mean                  0\n",
       "SpO2_mean                2\n",
       "Temp(F)_mean            27\n",
       "RR_mean                  0\n",
       "ABPm_mean             1676\n",
       "ABPd_mean             1688\n",
       "ABPs_mean             1687\n",
       "NBPd_mean               22\n",
       "NBPm_mean               18\n",
       "NBPs_mean               20\n",
       "FiO2_mean             1344\n",
       "PH_mean               1801\n",
       "PCO2_mean             1423\n",
       "SaO2_mean             1983\n",
       "PlateletCount_mean      88\n",
       "Albumin_mean          1848\n",
       "Cholesterol_mean      2597\n",
       "Sodium_mean             68\n",
       "PO2_mean              1423\n",
       "dtype: int64"
      ]
     },
     "execution_count": 8,
     "metadata": {},
     "output_type": "execute_result"
    }
   ],
   "source": [
    "df_master_cleaned[chart_labels_mean_cols].isna().sum()"
   ]
  },
  {
   "cell_type": "code",
   "execution_count": 9,
   "metadata": {},
   "outputs": [
    {
     "data": {
      "text/plain": [
       "Tidal_Volume_mean            2290\n",
       "Urea_Nitrogren_mean            13\n",
       "Alkaline_Phosphatase_mean     872\n",
       "Calcium_Total_mean             45\n",
       "Chloride_mean                  13\n",
       "Glucose_mean                   13\n",
       "Lactate_mean                  734\n",
       "Magnesium_mean                 15\n",
       "Phosphate_mean                 40\n",
       "Potassium_mean                 13\n",
       "Bilirubin                     854\n",
       "Troponin-T_mean              1881\n",
       "Hematocrit_mean                13\n",
       "Hemoglobin_mean              1729\n",
       "ALT_mean                      858\n",
       "Creatinine_mean                13\n",
       "PTT_mean                      204\n",
       "WBC_mean                     1491\n",
       "Fibrinogen                   1812\n",
       "dtype: int64"
      ]
     },
     "execution_count": 9,
     "metadata": {},
     "output_type": "execute_result"
    }
   ],
   "source": [
    "df_master_cleaned[lab_labels_mean_cols].isna().sum()"
   ]
  },
  {
   "cell_type": "code",
   "execution_count": 16,
   "metadata": {
    "id": "hnlARNOvpwZC"
   },
   "outputs": [
    {
     "name": "stdout",
     "output_type": "stream",
     "text": [
      "       Cardiomegaly   anchor_age          los\n",
      "count   2662.000000  2662.000000  2662.000000\n",
      "mean       0.699098    64.817431     2.975440\n",
      "std        0.458736    15.681167     3.863262\n",
      "min        0.000000    18.000000     0.022465\n",
      "25%        0.000000    55.000000     1.114650\n",
      "50%        1.000000    66.000000     1.895694\n",
      "75%        1.000000    77.000000     3.279227\n",
      "max        1.000000    98.000000    77.740706\n",
      "ethnicity                                \n",
      "WHITE                                        1631\n",
      "BLACK/AFRICAN AMERICAN                        370\n",
      "OTHER                                          99\n",
      "WHITE - OTHER EUROPEAN                         64\n",
      "HISPANIC/LATINO - PUERTO RICAN                 59\n",
      "WHITE - RUSSIAN                                58\n",
      "UNKNOWN                                        51\n",
      "BLACK/CAPE VERDEAN                             43\n",
      "ASIAN                                          42\n",
      "ASIAN - CHINESE                                35\n",
      "HISPANIC/LATINO - DOMINICAN                    33\n",
      "HISPANIC OR LATINO                             26\n",
      "BLACK/CARIBBEAN ISLAND                         24\n",
      "PORTUGUESE                                     18\n",
      "ASIAN - SOUTH EAST ASIAN                       15\n",
      "ASIAN - ASIAN INDIAN                           13\n",
      "BLACK/AFRICAN                                  11\n",
      "HISPANIC/LATINO - GUATEMALAN                    9\n",
      "WHITE - EASTERN EUROPEAN                        8\n",
      "AMERICAN INDIAN/ALASKA NATIVE                   7\n",
      "HISPANIC/LATINO - SALVADORAN                    7\n",
      "UNABLE TO OBTAIN                                7\n",
      "HISPANIC/LATINO - HONDURAN                      6\n",
      "PATIENT DECLINED TO ANSWER                      6\n",
      "WHITE - BRAZILIAN                               4\n",
      "HISPANIC/LATINO - CUBAN                         3\n",
      "ASIAN - KOREAN                                  3\n",
      "HISPANIC/LATINO - CENTRAL AMERICAN              2\n",
      "HISPANIC/LATINO - COLUMBIAN                     2\n",
      "MULTIPLE RACE/ETHNICITY                         2\n",
      "SOUTH AMERICAN                                  2\n",
      "NATIVE HAWAIIAN OR OTHER PACIFIC ISLANDER       1\n",
      "HISPANIC/LATINO - MEXICAN                       1\n",
      "Name: count, dtype: int64\n",
      "ethnicity                                \n",
      "WHITE                                        0.612697\n",
      "BLACK/AFRICAN AMERICAN                       0.138993\n",
      "OTHER                                        0.037190\n",
      "WHITE - OTHER EUROPEAN                       0.024042\n",
      "HISPANIC/LATINO - PUERTO RICAN               0.022164\n",
      "WHITE - RUSSIAN                              0.021788\n",
      "UNKNOWN                                      0.019159\n",
      "BLACK/CAPE VERDEAN                           0.016153\n",
      "ASIAN                                        0.015778\n",
      "ASIAN - CHINESE                              0.013148\n",
      "HISPANIC/LATINO - DOMINICAN                  0.012397\n",
      "HISPANIC OR LATINO                           0.009767\n",
      "BLACK/CARIBBEAN ISLAND                       0.009016\n",
      "PORTUGUESE                                   0.006762\n",
      "ASIAN - SOUTH EAST ASIAN                     0.005635\n",
      "ASIAN - ASIAN INDIAN                         0.004884\n",
      "BLACK/AFRICAN                                0.004132\n",
      "HISPANIC/LATINO - GUATEMALAN                 0.003381\n",
      "WHITE - EASTERN EUROPEAN                     0.003005\n",
      "AMERICAN INDIAN/ALASKA NATIVE                0.002630\n",
      "HISPANIC/LATINO - SALVADORAN                 0.002630\n",
      "UNABLE TO OBTAIN                             0.002630\n",
      "HISPANIC/LATINO - HONDURAN                   0.002254\n",
      "PATIENT DECLINED TO ANSWER                   0.002254\n",
      "WHITE - BRAZILIAN                            0.001503\n",
      "HISPANIC/LATINO - CUBAN                      0.001127\n",
      "ASIAN - KOREAN                               0.001127\n",
      "HISPANIC/LATINO - CENTRAL AMERICAN           0.000751\n",
      "HISPANIC/LATINO - COLUMBIAN                  0.000751\n",
      "MULTIPLE RACE/ETHNICITY                      0.000751\n",
      "SOUTH AMERICAN                               0.000751\n",
      "NATIVE HAWAIIAN OR OTHER PACIFIC ISLANDER    0.000376\n",
      "HISPANIC/LATINO - MEXICAN                    0.000376\n",
      "Name: proportion, dtype: float64\n",
      "gender\n",
      "M         1485\n",
      "F         1177\n",
      "Name: count, dtype: int64\n",
      "gender\n",
      "M         0.557851\n",
      "F         0.442149\n",
      "Name: proportion, dtype: float64\n"
     ]
    }
   ],
   "source": [
    "# Analysis of MIMIC features \n",
    "print(df_master_cleaned.loc[:, ['Cardiomegaly', 'anchor_age', 'los']].describe())\n",
    "print(df_master_cleaned.loc[:, ['ethnicity']].value_counts())\n",
    "print(df_master_cleaned.loc[:, ['ethnicity']].value_counts(normalize=True))\n",
    "print(df_master_cleaned.loc[:, ['gender']].value_counts())\n",
    "print(df_master_cleaned.loc[:, ['gender']].value_counts(normalize=True))"
   ]
  },
  {
   "cell_type": "code",
   "execution_count": 17,
   "metadata": {
    "id": "cCTNNZz3pwZD"
   },
   "outputs": [
    {
     "name": "stdout",
     "output_type": "stream",
     "text": [
      "       Cardiomegaly   anchor_age          los\n",
      "count        1861.0  1861.000000  1861.000000\n",
      "mean            1.0    66.967759     3.082954\n",
      "std             0.0    14.935454     4.129418\n",
      "min             1.0    19.000000     0.022465\n",
      "25%             1.0    58.000000     1.129560\n",
      "50%             1.0    68.000000     1.927708\n",
      "75%             1.0    78.000000     3.359907\n",
      "max             1.0    98.000000    77.740706\n",
      "ethnicity                                \n",
      "WHITE                                        1095\n",
      "BLACK/AFRICAN AMERICAN                        309\n",
      "OTHER                                          67\n",
      "WHITE - RUSSIAN                                44\n",
      "WHITE - OTHER EUROPEAN                         43\n",
      "HISPANIC/LATINO - PUERTO RICAN                 40\n",
      "BLACK/CAPE VERDEAN                             31\n",
      "HISPANIC/LATINO - DOMINICAN                    29\n",
      "ASIAN                                          28\n",
      "UNKNOWN                                        27\n",
      "ASIAN - CHINESE                                23\n",
      "HISPANIC OR LATINO                             21\n",
      "BLACK/CARIBBEAN ISLAND                         19\n",
      "PORTUGUESE                                     14\n",
      "BLACK/AFRICAN                                   9\n",
      "HISPANIC/LATINO - GUATEMALAN                    8\n",
      "ASIAN - SOUTH EAST ASIAN                        7\n",
      "AMERICAN INDIAN/ALASKA NATIVE                   6\n",
      "ASIAN - ASIAN INDIAN                            6\n",
      "HISPANIC/LATINO - SALVADORAN                    5\n",
      "WHITE - EASTERN EUROPEAN                        5\n",
      "PATIENT DECLINED TO ANSWER                      4\n",
      "UNABLE TO OBTAIN                                4\n",
      "HISPANIC/LATINO - HONDURAN                      3\n",
      "WHITE - BRAZILIAN                               3\n",
      "HISPANIC/LATINO - CUBAN                         2\n",
      "HISPANIC/LATINO - CENTRAL AMERICAN              2\n",
      "ASIAN - KOREAN                                  2\n",
      "HISPANIC/LATINO - COLUMBIAN                     2\n",
      "MULTIPLE RACE/ETHNICITY                         1\n",
      "HISPANIC/LATINO - MEXICAN                       1\n",
      "NATIVE HAWAIIAN OR OTHER PACIFIC ISLANDER       1\n",
      "Name: count, dtype: int64\n",
      "ethnicity                                \n",
      "WHITE                                        0.588393\n",
      "BLACK/AFRICAN AMERICAN                       0.166040\n",
      "OTHER                                        0.036002\n",
      "WHITE - RUSSIAN                              0.023643\n",
      "WHITE - OTHER EUROPEAN                       0.023106\n",
      "HISPANIC/LATINO - PUERTO RICAN               0.021494\n",
      "BLACK/CAPE VERDEAN                           0.016658\n",
      "HISPANIC/LATINO - DOMINICAN                  0.015583\n",
      "ASIAN                                        0.015046\n",
      "UNKNOWN                                      0.014508\n",
      "ASIAN - CHINESE                              0.012359\n",
      "HISPANIC OR LATINO                           0.011284\n",
      "BLACK/CARIBBEAN ISLAND                       0.010210\n",
      "PORTUGUESE                                   0.007523\n",
      "BLACK/AFRICAN                                0.004836\n",
      "HISPANIC/LATINO - GUATEMALAN                 0.004299\n",
      "ASIAN - SOUTH EAST ASIAN                     0.003761\n",
      "AMERICAN INDIAN/ALASKA NATIVE                0.003224\n",
      "ASIAN - ASIAN INDIAN                         0.003224\n",
      "HISPANIC/LATINO - SALVADORAN                 0.002687\n",
      "WHITE - EASTERN EUROPEAN                     0.002687\n",
      "PATIENT DECLINED TO ANSWER                   0.002149\n",
      "UNABLE TO OBTAIN                             0.002149\n",
      "HISPANIC/LATINO - HONDURAN                   0.001612\n",
      "WHITE - BRAZILIAN                            0.001612\n",
      "HISPANIC/LATINO - CUBAN                      0.001075\n",
      "HISPANIC/LATINO - CENTRAL AMERICAN           0.001075\n",
      "ASIAN - KOREAN                               0.001075\n",
      "HISPANIC/LATINO - COLUMBIAN                  0.001075\n",
      "MULTIPLE RACE/ETHNICITY                      0.000537\n",
      "HISPANIC/LATINO - MEXICAN                    0.000537\n",
      "NATIVE HAWAIIAN OR OTHER PACIFIC ISLANDER    0.000537\n",
      "Name: proportion, dtype: float64\n",
      "gender\n",
      "M         1030\n",
      "F          831\n",
      "Name: count, dtype: int64\n",
      "gender\n",
      "M         0.553466\n",
      "F         0.446534\n",
      "Name: proportion, dtype: float64\n"
     ]
    }
   ],
   "source": [
    "# Analysis of MIMIC features for class 1 (cardiomegaly positive)\n",
    "print(df_master_cleaned.loc[df_master_cleaned.Cardiomegaly == 1, ['Cardiomegaly', 'anchor_age', 'los']].describe())\n",
    "print(df_master_cleaned.loc[df_master_cleaned.Cardiomegaly == 1, ['ethnicity']].value_counts())\n",
    "print(df_master_cleaned.loc[df_master_cleaned.Cardiomegaly == 1, ['ethnicity']].value_counts(normalize=True))\n",
    "print(df_master_cleaned.loc[df_master_cleaned.Cardiomegaly == 1, ['gender']].value_counts())\n",
    "print(df_master_cleaned.loc[df_master_cleaned.Cardiomegaly == 1, ['gender']].value_counts(normalize=True))"
   ]
  },
  {
   "cell_type": "code",
   "execution_count": 18,
   "metadata": {},
   "outputs": [
    {
     "name": "stdout",
     "output_type": "stream",
     "text": [
      "       Cardiomegaly  anchor_age         los\n",
      "count         801.0  801.000000  801.000000\n",
      "mean            0.0   59.821473    2.725647\n",
      "std             0.0   16.233972    3.147718\n",
      "min             0.0   18.000000    0.030359\n",
      "25%             0.0   51.000000    1.073032\n",
      "50%             0.0   61.000000    1.781377\n",
      "75%             0.0   71.000000    3.009514\n",
      "max             0.0   98.000000   28.919792\n",
      "ethnicity                     \n",
      "WHITE                             536\n",
      "BLACK/AFRICAN AMERICAN             61\n",
      "OTHER                              32\n",
      "UNKNOWN                            24\n",
      "WHITE - OTHER EUROPEAN             21\n",
      "HISPANIC/LATINO - PUERTO RICAN     19\n",
      "ASIAN                              14\n",
      "WHITE - RUSSIAN                    14\n",
      "ASIAN - CHINESE                    12\n",
      "BLACK/CAPE VERDEAN                 12\n",
      "ASIAN - SOUTH EAST ASIAN            8\n",
      "ASIAN - ASIAN INDIAN                7\n",
      "BLACK/CARIBBEAN ISLAND              5\n",
      "HISPANIC OR LATINO                  5\n",
      "HISPANIC/LATINO - DOMINICAN         4\n",
      "PORTUGUESE                          4\n",
      "HISPANIC/LATINO - HONDURAN          3\n",
      "WHITE - EASTERN EUROPEAN            3\n",
      "UNABLE TO OBTAIN                    3\n",
      "HISPANIC/LATINO - SALVADORAN        2\n",
      "BLACK/AFRICAN                       2\n",
      "SOUTH AMERICAN                      2\n",
      "PATIENT DECLINED TO ANSWER          2\n",
      "AMERICAN INDIAN/ALASKA NATIVE       1\n",
      "ASIAN - KOREAN                      1\n",
      "HISPANIC/LATINO - CUBAN             1\n",
      "HISPANIC/LATINO - GUATEMALAN        1\n",
      "MULTIPLE RACE/ETHNICITY             1\n",
      "WHITE - BRAZILIAN                   1\n",
      "Name: count, dtype: int64\n",
      "ethnicity                     \n",
      "WHITE                             0.669164\n",
      "BLACK/AFRICAN AMERICAN            0.076155\n",
      "OTHER                             0.039950\n",
      "UNKNOWN                           0.029963\n",
      "WHITE - OTHER EUROPEAN            0.026217\n",
      "HISPANIC/LATINO - PUERTO RICAN    0.023720\n",
      "ASIAN                             0.017478\n",
      "WHITE - RUSSIAN                   0.017478\n",
      "ASIAN - CHINESE                   0.014981\n",
      "BLACK/CAPE VERDEAN                0.014981\n",
      "ASIAN - SOUTH EAST ASIAN          0.009988\n",
      "ASIAN - ASIAN INDIAN              0.008739\n",
      "BLACK/CARIBBEAN ISLAND            0.006242\n",
      "HISPANIC OR LATINO                0.006242\n",
      "HISPANIC/LATINO - DOMINICAN       0.004994\n",
      "PORTUGUESE                        0.004994\n",
      "HISPANIC/LATINO - HONDURAN        0.003745\n",
      "WHITE - EASTERN EUROPEAN          0.003745\n",
      "UNABLE TO OBTAIN                  0.003745\n",
      "HISPANIC/LATINO - SALVADORAN      0.002497\n",
      "BLACK/AFRICAN                     0.002497\n",
      "SOUTH AMERICAN                    0.002497\n",
      "PATIENT DECLINED TO ANSWER        0.002497\n",
      "AMERICAN INDIAN/ALASKA NATIVE     0.001248\n",
      "ASIAN - KOREAN                    0.001248\n",
      "HISPANIC/LATINO - CUBAN           0.001248\n",
      "HISPANIC/LATINO - GUATEMALAN      0.001248\n",
      "MULTIPLE RACE/ETHNICITY           0.001248\n",
      "WHITE - BRAZILIAN                 0.001248\n",
      "Name: proportion, dtype: float64\n",
      "gender\n",
      "M         455\n",
      "F         346\n",
      "Name: count, dtype: int64\n",
      "gender\n",
      "M         0.56804\n",
      "F         0.43196\n",
      "Name: proportion, dtype: float64\n"
     ]
    }
   ],
   "source": [
    "# Analysis of MIMIC features for class 0 (cardiomegaly negative)\n",
    "print(df_master_cleaned.loc[df_master_cleaned.Cardiomegaly == 0, ['Cardiomegaly', 'anchor_age', 'los']].describe())\n",
    "print(df_master_cleaned.loc[df_master_cleaned.Cardiomegaly == 0, ['ethnicity']].value_counts())\n",
    "print(df_master_cleaned.loc[df_master_cleaned.Cardiomegaly == 0, ['ethnicity']].value_counts(normalize=True))\n",
    "print(df_master_cleaned.loc[df_master_cleaned.Cardiomegaly == 0, ['gender']].value_counts())\n",
    "print(df_master_cleaned.loc[df_master_cleaned.Cardiomegaly == 0, ['gender']].value_counts(normalize=True))"
   ]
  },
  {
   "cell_type": "code",
   "execution_count": 19,
   "metadata": {},
   "outputs": [
    {
     "name": "stdout",
     "output_type": "stream",
     "text": [
      "               CTR\n",
      "count  2626.000000\n",
      "mean      0.538070\n",
      "std       0.075057\n",
      "min       0.252158\n",
      "25%       0.486001\n",
      "50%       0.539328\n",
      "75%       0.585778\n",
      "max       0.878350\n",
      "               CTR\n",
      "count  1833.000000\n",
      "mean      0.565326\n",
      "std       0.066333\n",
      "min       0.285477\n",
      "25%       0.527045\n",
      "50%       0.562851\n",
      "75%       0.603655\n",
      "max       0.878350\n",
      "              CTR\n",
      "count  793.000000\n",
      "mean     0.475069\n",
      "std      0.052916\n",
      "min      0.252158\n",
      "25%      0.441733\n",
      "50%      0.472048\n",
      "75%      0.505963\n",
      "max      0.679572\n"
     ]
    },
    {
     "data": {
      "text/plain": [
       "array([<Axes: title={'center': '0'}>, <Axes: title={'center': '1'}>],\n",
       "      dtype=object)"
      ]
     },
     "execution_count": 19,
     "metadata": {},
     "output_type": "execute_result"
    },
    {
     "data": {
      "image/png": "[encoded data removed]",
      "text/plain": [
       "<Figure size 640x480 with 2 Axes>"
      ]
     },
     "metadata": {},
     "output_type": "display_data"
    }
   ],
   "source": [
    "# Analysis of image derived image biomarker (CTR) by class + histograms of values\n",
    "print(df_master_cleaned.loc[:, ['CTR']].describe())\n",
    "print(df_master_cleaned.loc[df_master_cleaned.Cardiomegaly == 1, ['CTR']].describe())\n",
    "print(df_master_cleaned.loc[df_master_cleaned.Cardiomegaly == 0, ['CTR']].describe())\n",
    "\n",
    "df_master_cleaned.hist(column = 'CTR', bins=100, by='Cardiomegaly', range =[0,1])"
   ]
  },
  {
   "cell_type": "code",
   "execution_count": 20,
   "metadata": {},
   "outputs": [
    {
     "name": "stdout",
     "output_type": "stream",
     "text": [
      "              CPAR\n",
      "count  2588.000000\n",
      "mean      0.419645\n",
      "std       0.114604\n",
      "min       0.155824\n",
      "25%       0.335245\n",
      "50%       0.407548\n",
      "75%       0.490510\n",
      "max       0.968528\n",
      "              CPAR\n",
      "count  1803.000000\n",
      "mean      0.459121\n",
      "std       0.108310\n",
      "min       0.194550\n",
      "25%       0.386811\n",
      "50%       0.447974\n",
      "75%       0.520042\n",
      "max       0.968528\n",
      "             CPAR\n",
      "count  785.000000\n",
      "mean     0.328978\n",
      "std      0.067533\n",
      "min      0.155824\n",
      "25%      0.283965\n",
      "50%      0.320178\n",
      "75%      0.364737\n",
      "max      0.623267\n"
     ]
    },
    {
     "data": {
      "text/plain": [
       "array([<Axes: title={'center': '0'}>, <Axes: title={'center': '1'}>],\n",
       "      dtype=object)"
      ]
     },
     "execution_count": 20,
     "metadata": {},
     "output_type": "execute_result"
    },
    {
     "data": {
      "image/png": "[encoded data removed]",
      "text/plain": [
       "<Figure size 640x480 with 2 Axes>"
      ]
     },
     "metadata": {},
     "output_type": "display_data"
    }
   ],
   "source": [
    "# Analysis of image derived image biomarker (CPAR) by class + histograms of values\n",
    "print(df_master_cleaned.loc[:, ['CPAR']].describe())\n",
    "print(df_master_cleaned.loc[df_master_cleaned.Cardiomegaly == 1, ['CPAR']].describe())\n",
    "print(df_master_cleaned.loc[df_master_cleaned.Cardiomegaly == 0, ['CPAR']].describe())\n",
    "\n",
    "df_master_cleaned.hist(column = 'CPAR', bins=100, by='Cardiomegaly', range =[0,1])"
   ]
  },
  {
   "cell_type": "code",
   "execution_count": 21,
   "metadata": {},
   "outputs": [
    {
     "name": "stdout",
     "output_type": "stream",
     "text": [
      "CTR general success rate: 99.004% (total of 958 errors)\n",
      "\t of which are 817 are heart based (85.282%)\n",
      "\t of which are 80 are lung based (8.351%)\n",
      "\t of which are 61 are both based (6.367%)\n",
      "\n",
      "CPAR general success rate: 97.627% (total of 2282 errors)\n",
      "\t of which are 2057 are heart based (90.14%)\n",
      "\t of which are 71 are lung based (3.111%)\n",
      "\t of which are 154 are both based (6.748%)\n"
     ]
    }
   ],
   "source": [
    "# Additional analysis of CTR and CPAR success rates\n",
    "df_ctr = pd.read_csv(ctr_path)\n",
    "df_cpar = pd.read_csv(cpar_path)\n",
    "\n",
    "ctr_heart = (df_ctr.CTR == 2).sum()\n",
    "ctr_lungs = (df_ctr.CTR == 3).sum()\n",
    "ctr_both = (df_ctr.CTR == 4).sum()\n",
    "ctr = ctr_both+ctr_heart+ctr_lungs\n",
    "\n",
    "cpar_heart = (df_cpar.CPAR == 2).sum()\n",
    "cpar_lungs = (df_cpar.CPAR == 3).sum()\n",
    "cpar_both = (df_cpar.CPAR == 4).sum()\n",
    "cpar = cpar_both+cpar_heart+cpar_lungs\n",
    "\n",
    "print(f'CTR general success rate: {round((len(df_ctr)-ctr)/len(df_ctr)*100,3)}% (total of {ctr} errors)')\n",
    "print(f'\\t of which are {ctr_heart} are heart based ({round(ctr_heart/ctr*100,3)}%)')\n",
    "print(f'\\t of which are {ctr_lungs} are lung based ({round(ctr_lungs/ctr*100,3)}%)')\n",
    "print(f'\\t of which are {ctr_both} are both based ({round(ctr_both/ctr*100,3)}%)\\n')\n",
    "\n",
    "print(f'CPAR general success rate: {round((len(df_cpar)-cpar)/len(df_cpar)*100,3)}% (total of {cpar} errors)')\n",
    "print(f'\\t of which are {cpar_heart} are heart based ({round(cpar_heart/cpar*100,3)}%)')\n",
    "print(f'\\t of which are {cpar_lungs} are lung based ({round(cpar_lungs/cpar*100,3)}%)')\n",
    "print(f'\\t of which are {cpar_both} are both based ({round(cpar_both/cpar*100,3)}%)')"
   ]
  }
 ],
 "metadata": {
  "colab": {
   "background_execution": "on",
   "collapsed_sections": [],
   "machine_shape": "hm",
   "name": "pipeline.ipynb",
   "version": ""
  },
  "kernelspec": {
   "display_name": "Python 3.10.7 64-bit",
   "language": "python",
   "name": "python3"
  },
  "language_info": {
   "codemirror_mode": {
    "name": "ipython",
    "version": 3
   },
   "file_extension": ".py",
   "mimetype": "text/x-python",
   "name": "python",
   "nbconvert_exporter": "python",
   "pygments_lexer": "ipython3",
   "version": "3.10.11"
  },
  "vscode": {
   "interpreter": {
    "hash": "d1cba19b971ff694059e83efcf642bf4bc6078f5ed50d16de55abdc3eb9fc494"
   }
  }
 },
 "nbformat": 4,
 "nbformat_minor": 0
}

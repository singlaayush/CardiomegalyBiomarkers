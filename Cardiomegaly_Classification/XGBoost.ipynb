{
 "cells": [
  {
   "cell_type": "markdown",
   "metadata": {},
   "source": [
    "# 0 Initialise"
   ]
  },
  {
   "cell_type": "markdown",
   "metadata": {},
   "source": [
    "### Import Packages"
   ]
  },
  {
   "cell_type": "code",
   "execution_count": 47,
   "metadata": {},
   "outputs": [],
   "source": [
    "# Import packages\n",
    "import numpy as np\n",
    "import pandas as pd\n",
    "import matplotlib.pyplot as plt\n",
    "\n",
    "from CardiomegalyBiomarkers.Cardiomegaly_Classification.src.xgboost_functions import SplitData, train_test_xgboost"
   ]
  },
  {
   "cell_type": "markdown",
   "metadata": {},
   "source": [
    "### Paths"
   ]
  },
  {
   "cell_type": "code",
   "execution_count": 48,
   "metadata": {},
   "outputs": [],
   "source": [
    "# Path for data location\n",
    "data_path = '../Cardiomegaly_Classification/MIMIC_features/MIMIC_features.pkl'\n",
    "\n",
    "# Path for model location and error graphs\n",
    "model_folder = '../Cardiomegaly_Classification/models/xgboost/'"
   ]
  },
  {
   "cell_type": "markdown",
   "metadata": {},
   "source": [
    "### Model Parameters"
   ]
  },
  {
   "cell_type": "code",
   "execution_count": 33,
   "metadata": {},
   "outputs": [],
   "source": [
    "# Data parameters\n",
    "TrainTestFractions = [0.9, 0.1] # Spits of data for training/validation and testing sets\n",
    "FoldFractions = [0.2, 0.2, 0.2, 0.2, 0.2] # Spits of data for folds\n",
    "\n",
    "# XGBoost parameters\n",
    "eval_metric = 'logloss'\n",
    "scale_pos_weight = 0.3/0.7\n",
    "colsample_bytree = 0.75\n",
    "gamma = 0\n",
    "lr = 0.1\n",
    "subsample = 0.75\n",
    "\n",
    "max_depth_shallow = 3\n",
    "max_depth_deep = 8\n",
    "\n",
    "early_stopping = 15"
   ]
  },
  {
   "cell_type": "code",
   "execution_count": 35,
   "metadata": {},
   "outputs": [],
   "source": [
    "# Feature selection for model\n",
    "base = ['subject_id', 'hadm_id', 'stay_id', 'path'] # base features\n",
    "\n",
    "vital = ['HR_mean', 'ABPs_mean', 'ABPd_mean', 'ABPm_mean', 'NBPs_mean', 'NBPd_mean',  # vital sign features (V)\n",
    "         'NBPm_mean', 'RR_mean', 'PO2_mean', 'SaO2_mean', 'PCO2_mean', 'PH_mean', 'SpO2_mean', \n",
    "         'Cholesterol_mean', 'Sodium_mean', 'Temp(F)_mean', 'FiO2_mean', 'Albumin_mean', \n",
    "         'PlateletCount_mean', 'HR_max', 'ABPs_max', 'ABPd_max', 'ABPm_max', 'NBPs_max', \n",
    "         'NBPd_max', 'NBPm_max', 'RR_max', 'PCO2_max', 'Sodium_max', 'FiO2_max', 'HR_min', \n",
    "         'ABPs_min', 'ABPd_min', 'ABPm_min', 'NBPs_min', 'NBPd_min', 'NBPm_min', 'RR_min', \n",
    "         'PCO2_min', 'SpO2_min', 'Sodium_min']\n",
    "\n",
    "\n",
    "lab = ['Hemoglobin_mean', 'Lactate_mean', 'Tidal_Volume_mean', 'ALT_mean', 'Alkaline_Phosphatase_mean', # laboratory features (L)\n",
    "       'Bilirubin', 'Calcium_Total_mean', 'Chloride_mean', 'Creatinine_mean', 'Glucose_mean', \n",
    "       'Magnesium_mean', 'Phosphate_mean', 'Potassium_mean', 'Troponin-T_mean', 'Urea_Nitrogren_mean', \n",
    "       'Fibrinogen', 'Hematocrit_mean', 'PTT_mean', 'WBC_mean', 'Hemoglobin_max', 'Potassium_max', \n",
    "       'Troponin-T_max', 'WBC_max', 'Hemoglobin_min', 'Potassium_min', 'WBC_min']\n",
    "\n",
    "meta_cont = ['los', 'anchor_age']                # continuous metadata features (M)\n",
    "meta_cat = ['gender']                            # categorical metadata features (M)\n",
    "meta_cat_encoded = ['gender_F', 'gender_M']      # encoded catgeorical metadata features\n",
    "\n",
    "bmrks = ['CTR', 'CPAR']     # biomarker features (BMRK)\n",
    "\n",
    "# Select modality combinations tested (list of lists)\n",
    "modalities_combinations = [[vital + lab + meta_cont + meta_cat_encoded, 'M_L_V'],\n",
    "                           [bmrks, 'BMRK'], \n",
    "                           [vital + lab + meta_cont + meta_cat_encoded + bmrks, 'M_L_V_BMRK']]"
   ]
  },
  {
   "cell_type": "markdown",
   "metadata": {},
   "source": [
    "# 1 Data Prepocessing"
   ]
  },
  {
   "cell_type": "code",
   "execution_count": 6,
   "metadata": {},
   "outputs": [],
   "source": [
    "# Read \n",
    "data = pd.read_pickle(data_path)\n",
    "\n",
    "# Change name of column to indicate class deoaration\n",
    "data.rename(columns={'Cardiomegaly':'class'}, inplace=True)\n",
    "\n",
    "[TrainVal_df, Test_df] = SplitData(data, TrainTestFractions)\n",
    "\n",
    "# Split trainval into folds\n",
    "[Fold1_df, Fold2_df, Fold3_df, Fold4_df, Fold5_df] = SplitData(TrainVal_df, FoldFractions)"
   ]
  },
  {
   "cell_type": "code",
   "execution_count": 7,
   "metadata": {},
   "outputs": [],
   "source": [
    "# Preprocess folds for xgboost use by selecting features and encoding categorical features\n",
    "Fold1_df = pd.concat([Fold1_df[base + vital + lab + meta_cont + bmrks], pd.get_dummies(Fold1_df[meta_cat]), Fold1_df['class']], axis=1)\n",
    "Fold2_df = pd.concat([Fold2_df[base + vital + lab + meta_cont + bmrks], pd.get_dummies(Fold2_df[meta_cat]), Fold2_df['class']], axis=1)\n",
    "Fold3_df = pd.concat([Fold3_df[base + vital + lab + meta_cont + bmrks], pd.get_dummies(Fold3_df[meta_cat]), Fold3_df['class']], axis=1)\n",
    "Fold4_df = pd.concat([Fold4_df[base + vital + lab + meta_cont + bmrks], pd.get_dummies(Fold4_df[meta_cat]), Fold4_df['class']], axis=1)\n",
    "Fold5_df = pd.concat([Fold5_df[base + vital + lab + meta_cont + bmrks], pd.get_dummies(Fold5_df[meta_cat]), Fold5_df['class']], axis=1)\n",
    "\n",
    "# Preprocess test set for xgboost use by selecting features and encoding categorical features\n",
    "Test_df = pd.concat([Test_df[base + vital + lab + meta_cont + bmrks], pd.get_dummies(Test_df[meta_cat]), Test_df['class']], axis=1)"
   ]
  },
  {
   "cell_type": "markdown",
   "metadata": {},
   "source": [
    "# 2 Model Training and Testing"
   ]
  },
  {
   "cell_type": "code",
   "execution_count": null,
   "metadata": {},
   "outputs": [],
   "source": [
    "# define dict of model parameters\n",
    "model_params = {'eval_metric' : eval_metric,\n",
    "                'scale_pos_weight' : scale_pos_weight,\n",
    "                'colsample_bytree' : colsample_bytree,\n",
    "                'gamma' : gamma,\n",
    "                'lr' : lr,\n",
    "                'subsample' : subsample, \n",
    "                'max_depth_shallow' : max_depth_shallow,\n",
    "                'max_depth_deep' : max_depth_deep,\n",
    "                'early_stopping' : early_stopping}\n",
    "\n",
    "\n",
    "# getmodels, train and test, return pandas of results using k-fold cross validation\n",
    "# -> if lossFigure and saveModels are True, then figures of training and validation losses and models are saved in ./MOdel/xgboost/\n",
    "results_fold1 = train_test_xgboost([Fold2_df, Fold3_df, Fold4_df, Fold5_df], Fold1_df, 1, Test_df, modalities_combinations, model_params, model_folder, lossFigure = True, exportModels = True)\n",
    "results_fold2 = train_test_xgboost([Fold1_df, Fold3_df, Fold4_df, Fold5_df], Fold2_df, 2, Test_df, modalities_combinations, model_params, model_folder, lossFigure = False, exportModels = False)\n",
    "results_fold3 = train_test_xgboost([Fold2_df, Fold1_df, Fold4_df, Fold5_df], Fold3_df, 3, Test_df, modalities_combinations, model_params, model_folder, lossFigure = False, exportModels = False)\n",
    "results_fold4 = train_test_xgboost([Fold2_df, Fold3_df, Fold1_df, Fold5_df], Fold4_df, 4, Test_df, modalities_combinations, model_params, model_folder, lossFigure = False, exportModels = False)\n",
    "results_fold5 = train_test_xgboost([Fold2_df, Fold3_df, Fold4_df, Fold1_df], Fold5_df, 5, Test_df, modalities_combinations, model_params, model_folder, lossFigure = False, exportModels = False)\n"
   ]
  },
  {
   "cell_type": "code",
   "execution_count": null,
   "metadata": {},
   "outputs": [],
   "source": [
    "# These lines are inlcuded to show how to load an exported xgboost model for predictions on new data\n",
    "'''\n",
    "model_load = XGBClassifier()\n",
    "model_load.load_model(model_folder + 'BMRK_fold1_model.json')\n",
    "'''"
   ]
  },
  {
   "cell_type": "markdown",
   "metadata": {},
   "source": [
    "# 3 Results Analysis"
   ]
  },
  {
   "cell_type": "code",
   "execution_count": null,
   "metadata": {},
   "outputs": [],
   "source": [
    "# display results per fold\n",
    "print(f'#######   VAL FOLD: fold 1   ########')\n",
    "display(results_fold1)\n",
    "\n",
    "print(f'#######   VAL FOLD: fold 2   ########')\n",
    "display(results_fold2)\n",
    "\n",
    "print(f'#######   VAL FOLD: fold 3   ########')\n",
    "display(results_fold3)\n",
    "\n",
    "print(f'#######   VAL FOLD: fold 4   ########')\n",
    "display(results_fold4)\n",
    "\n",
    "print(f'#######   VAL FOLD: fold 5   ########')\n",
    "display(results_fold5)"
   ]
  },
  {
   "cell_type": "code",
   "execution_count": null,
   "metadata": {},
   "outputs": [],
   "source": [
    "# Average performance scores over 5 folds and split per feature used\n",
    "results = pd.concat([results_fold1, results_fold2, results_fold3, results_fold4, results_fold5])\n",
    "\n",
    "modalities = list(set(results.index.tolist()))\n",
    "\n",
    "for modality in modalities:\n",
    "    results_summary = pd.concat([results['Accuracy'].loc[modality].describe(), results['ROC AUC'].loc[modality].describe(), results['F1 score'].loc[modality].describe()], axis=1)\n",
    "    results_summary.columns = ['Accuracy', 'ROC AUC', 'F1 score']\n",
    "    print(f'#######   AVG OVER 5 FOLDS: {modality}    ########')\n",
    "    display(results_summary.iloc[1:3])"
   ]
  }
 ],
 "metadata": {
  "kernelspec": {
   "display_name": "Python 3.10.5 64-bit",
   "language": "python",
   "name": "python3"
  },
  "language_info": {
   "codemirror_mode": {
    "name": "ipython",
    "version": 3
   },
   "file_extension": ".py",
   "mimetype": "text/x-python",
   "name": "python",
   "nbconvert_exporter": "python",
   "pygments_lexer": "ipython3",
   "version": "3.10.7"
  },
  "orig_nbformat": 4,
  "vscode": {
   "interpreter": {
    "hash": "d1cba19b971ff694059e83efcf642bf4bc6078f5ed50d16de55abdc3eb9fc494"
   }
  }
 },
 "nbformat": 4,
 "nbformat_minor": 2
}
